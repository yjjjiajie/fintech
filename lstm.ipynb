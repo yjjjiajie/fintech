{
 "cells": [
  {
   "cell_type": "markdown",
   "id": "2ffa8b89",
   "metadata": {},
   "source": [
    "# Using LSTM to preduct future price of NVDA"
   ]
  },
  {
   "cell_type": "markdown",
   "id": "da674249",
   "metadata": {},
   "source": [
    "## Importing Packages"
   ]
  },
  {
   "cell_type": "code",
   "execution_count": 2,
   "id": "aaddbcaa",
   "metadata": {},
   "outputs": [],
   "source": [
    "import pandas as pd\n",
    "import tensorflow\n",
    "import yfinance\n",
    "from pandas_datareader import data as web\n",
    "import math\n",
    "import numpy as np\n",
    "from sklearn.preprocessing import MinMaxScaler \n",
    "import matplotlib.pyplot as plt\n",
    "import tensorflow as tf\n",
    "from tensorflow import keras\n",
    "from tensorflow.keras import layers\n",
    "import plotly.express as px\n"
   ]
  },
  {
   "cell_type": "code",
   "execution_count": 3,
   "id": "c5cc2354",
   "metadata": {},
   "outputs": [
    {
     "name": "stderr",
     "output_type": "stream",
     "text": [
      "/var/folders/wx/97hhflzd4fz_lhsgvwz6ztc40000gn/T/ipykernel_16546/1562865526.py:15: FutureWarning: The default dtype for empty Series will be 'object' instead of 'float64' in a future version. Specify a dtype explicitly to silence this warning.\n",
      "  asset_data = asset_data.append(pd.Series(name='2022-10-24 00:00:00'))\n",
      "/var/folders/wx/97hhflzd4fz_lhsgvwz6ztc40000gn/T/ipykernel_16546/1562865526.py:15: FutureWarning: The frame.append method is deprecated and will be removed from pandas in a future version. Use pandas.concat instead.\n",
      "  asset_data = asset_data.append(pd.Series(name='2022-10-24 00:00:00'))\n",
      "/var/folders/wx/97hhflzd4fz_lhsgvwz6ztc40000gn/T/ipykernel_16546/1562865526.py:17: FutureWarning: The default dtype for empty Series will be 'object' instead of 'float64' in a future version. Specify a dtype explicitly to silence this warning.\n",
      "  asset_data = asset_data.append(pd.Series(name='2022-10-25 00:00:00'))\n",
      "/var/folders/wx/97hhflzd4fz_lhsgvwz6ztc40000gn/T/ipykernel_16546/1562865526.py:17: FutureWarning: The frame.append method is deprecated and will be removed from pandas in a future version. Use pandas.concat instead.\n",
      "  asset_data = asset_data.append(pd.Series(name='2022-10-25 00:00:00'))\n",
      "/var/folders/wx/97hhflzd4fz_lhsgvwz6ztc40000gn/T/ipykernel_16546/1562865526.py:19: FutureWarning: The default dtype for empty Series will be 'object' instead of 'float64' in a future version. Specify a dtype explicitly to silence this warning.\n",
      "  asset_data = asset_data.append(pd.Series(name='2022-10-26 00:00:00'))\n",
      "/var/folders/wx/97hhflzd4fz_lhsgvwz6ztc40000gn/T/ipykernel_16546/1562865526.py:19: FutureWarning: The frame.append method is deprecated and will be removed from pandas in a future version. Use pandas.concat instead.\n",
      "  asset_data = asset_data.append(pd.Series(name='2022-10-26 00:00:00'))\n",
      "/var/folders/wx/97hhflzd4fz_lhsgvwz6ztc40000gn/T/ipykernel_16546/1562865526.py:21: FutureWarning: The default dtype for empty Series will be 'object' instead of 'float64' in a future version. Specify a dtype explicitly to silence this warning.\n",
      "  asset_data = asset_data.append(pd.Series(name='2022-10-27 00:00:00'))\n",
      "/var/folders/wx/97hhflzd4fz_lhsgvwz6ztc40000gn/T/ipykernel_16546/1562865526.py:21: FutureWarning: The frame.append method is deprecated and will be removed from pandas in a future version. Use pandas.concat instead.\n",
      "  asset_data = asset_data.append(pd.Series(name='2022-10-27 00:00:00'))\n",
      "/var/folders/wx/97hhflzd4fz_lhsgvwz6ztc40000gn/T/ipykernel_16546/1562865526.py:23: FutureWarning: The default dtype for empty Series will be 'object' instead of 'float64' in a future version. Specify a dtype explicitly to silence this warning.\n",
      "  asset_data = asset_data.append(pd.Series(name='2022-10-28 00:00:00'))\n",
      "/var/folders/wx/97hhflzd4fz_lhsgvwz6ztc40000gn/T/ipykernel_16546/1562865526.py:23: FutureWarning: The frame.append method is deprecated and will be removed from pandas in a future version. Use pandas.concat instead.\n",
      "  asset_data = asset_data.append(pd.Series(name='2022-10-28 00:00:00'))\n",
      "/var/folders/wx/97hhflzd4fz_lhsgvwz6ztc40000gn/T/ipykernel_16546/1562865526.py:25: FutureWarning: The default dtype for empty Series will be 'object' instead of 'float64' in a future version. Specify a dtype explicitly to silence this warning.\n",
      "  asset_data = asset_data.append(pd.Series(name='2022-10-29 00:00:00'))\n",
      "/var/folders/wx/97hhflzd4fz_lhsgvwz6ztc40000gn/T/ipykernel_16546/1562865526.py:25: FutureWarning: The frame.append method is deprecated and will be removed from pandas in a future version. Use pandas.concat instead.\n",
      "  asset_data = asset_data.append(pd.Series(name='2022-10-29 00:00:00'))\n",
      "/var/folders/wx/97hhflzd4fz_lhsgvwz6ztc40000gn/T/ipykernel_16546/1562865526.py:27: FutureWarning: The default dtype for empty Series will be 'object' instead of 'float64' in a future version. Specify a dtype explicitly to silence this warning.\n",
      "  asset_data = asset_data.append(pd.Series(name='2022-10-30 00:00:00'))\n",
      "/var/folders/wx/97hhflzd4fz_lhsgvwz6ztc40000gn/T/ipykernel_16546/1562865526.py:27: FutureWarning: The frame.append method is deprecated and will be removed from pandas in a future version. Use pandas.concat instead.\n",
      "  asset_data = asset_data.append(pd.Series(name='2022-10-30 00:00:00'))\n",
      "/var/folders/wx/97hhflzd4fz_lhsgvwz6ztc40000gn/T/ipykernel_16546/1562865526.py:29: FutureWarning: The default dtype for empty Series will be 'object' instead of 'float64' in a future version. Specify a dtype explicitly to silence this warning.\n",
      "  asset_data = asset_data.append(pd.Series(name='2022-10-31 00:00:00'))\n",
      "/var/folders/wx/97hhflzd4fz_lhsgvwz6ztc40000gn/T/ipykernel_16546/1562865526.py:29: FutureWarning: The frame.append method is deprecated and will be removed from pandas in a future version. Use pandas.concat instead.\n",
      "  asset_data = asset_data.append(pd.Series(name='2022-10-31 00:00:00'))\n",
      "/var/folders/wx/97hhflzd4fz_lhsgvwz6ztc40000gn/T/ipykernel_16546/1562865526.py:31: FutureWarning: The default dtype for empty Series will be 'object' instead of 'float64' in a future version. Specify a dtype explicitly to silence this warning.\n",
      "  asset_data = asset_data.append(pd.Series(name='2022-11-01 00:00:00'))\n",
      "/var/folders/wx/97hhflzd4fz_lhsgvwz6ztc40000gn/T/ipykernel_16546/1562865526.py:31: FutureWarning: The frame.append method is deprecated and will be removed from pandas in a future version. Use pandas.concat instead.\n",
      "  asset_data = asset_data.append(pd.Series(name='2022-11-01 00:00:00'))\n",
      "/var/folders/wx/97hhflzd4fz_lhsgvwz6ztc40000gn/T/ipykernel_16546/1562865526.py:33: FutureWarning: The default dtype for empty Series will be 'object' instead of 'float64' in a future version. Specify a dtype explicitly to silence this warning.\n",
      "  asset_data = asset_data.append(pd.Series(name='2022-11-02 00:00:00'))\n",
      "/var/folders/wx/97hhflzd4fz_lhsgvwz6ztc40000gn/T/ipykernel_16546/1562865526.py:33: FutureWarning: The frame.append method is deprecated and will be removed from pandas in a future version. Use pandas.concat instead.\n",
      "  asset_data = asset_data.append(pd.Series(name='2022-11-02 00:00:00'))\n",
      "/var/folders/wx/97hhflzd4fz_lhsgvwz6ztc40000gn/T/ipykernel_16546/1562865526.py:35: FutureWarning: The default dtype for empty Series will be 'object' instead of 'float64' in a future version. Specify a dtype explicitly to silence this warning.\n",
      "  asset_data = asset_data.append(pd.Series(name='2022-11-03 00:00:00'))\n",
      "/var/folders/wx/97hhflzd4fz_lhsgvwz6ztc40000gn/T/ipykernel_16546/1562865526.py:35: FutureWarning: The frame.append method is deprecated and will be removed from pandas in a future version. Use pandas.concat instead.\n",
      "  asset_data = asset_data.append(pd.Series(name='2022-11-03 00:00:00'))\n",
      "/var/folders/wx/97hhflzd4fz_lhsgvwz6ztc40000gn/T/ipykernel_16546/1562865526.py:37: FutureWarning: The default dtype for empty Series will be 'object' instead of 'float64' in a future version. Specify a dtype explicitly to silence this warning.\n",
      "  asset_data = asset_data.append(pd.Series(name='2022-11-04 00:00:00'))\n",
      "/var/folders/wx/97hhflzd4fz_lhsgvwz6ztc40000gn/T/ipykernel_16546/1562865526.py:37: FutureWarning: The frame.append method is deprecated and will be removed from pandas in a future version. Use pandas.concat instead.\n",
      "  asset_data = asset_data.append(pd.Series(name='2022-11-04 00:00:00'))\n"
     ]
    }
   ],
   "source": [
    "tickers = ['NVDA'] #NVDA\n",
    "# Instantiate data frame container\n",
    "asset_data = pd.DataFrame()\n",
    "# For loop to get data from Yahoo finance\n",
    "for ticker in tickers:\n",
    "  # Each run of the loop returns a pandas data frame\n",
    "  asset_data[ticker] = web.DataReader(\n",
    "    name = ticker, \n",
    "    data_source = 'yahoo',\n",
    "    start = '2022-06-01'\n",
    "    # Use [ to extract values as pandas series\n",
    "    )['Adj Close']\n",
    "# Set column indices\n",
    "#add dummy rows of date and 0 for the missing dates\n",
    "asset_data = asset_data.append(pd.Series(name='2022-10-24 00:00:00'))\n",
    "asset_data.iloc[-1] = 120\n",
    "asset_data = asset_data.append(pd.Series(name='2022-10-25 00:00:00'))\n",
    "asset_data.iloc[-1] = 120\n",
    "asset_data = asset_data.append(pd.Series(name='2022-10-26 00:00:00'))\n",
    "asset_data.iloc[-1] = 120\n",
    "asset_data = asset_data.append(pd.Series(name='2022-10-27 00:00:00'))\n",
    "asset_data.iloc[-1] = 120\n",
    "asset_data = asset_data.append(pd.Series(name='2022-10-28 00:00:00'))\n",
    "asset_data.iloc[-1] = 120\n",
    "asset_data = asset_data.append(pd.Series(name='2022-10-29 00:00:00'))\n",
    "asset_data.iloc[-1] = 120\n",
    "asset_data = asset_data.append(pd.Series(name='2022-10-30 00:00:00'))\n",
    "asset_data.iloc[-1] = 120\n",
    "asset_data = asset_data.append(pd.Series(name='2022-10-31 00:00:00'))\n",
    "asset_data.iloc[-1] = 120\n",
    "asset_data = asset_data.append(pd.Series(name='2022-11-01 00:00:00'))\n",
    "asset_data.iloc[-1] = 120\n",
    "asset_data = asset_data.append(pd.Series(name='2022-11-02 00:00:00'))\n",
    "asset_data.iloc[-1] = 120\n",
    "asset_data = asset_data.append(pd.Series(name='2022-11-03 00:00:00'))\n",
    "asset_data.iloc[-1] = 120\n",
    "asset_data = asset_data.append(pd.Series(name='2022-11-04 00:00:00'))\n",
    "asset_data.iloc[-1] = 120\n",
    "\n",
    "\n",
    "asset_data.columns = tickers"
   ]
  },
  {
   "cell_type": "code",
   "execution_count": 4,
   "id": "ec8758ba",
   "metadata": {},
   "outputs": [
    {
     "data": {
      "text/html": [
       "<div>\n",
       "<style scoped>\n",
       "    .dataframe tbody tr th:only-of-type {\n",
       "        vertical-align: middle;\n",
       "    }\n",
       "\n",
       "    .dataframe tbody tr th {\n",
       "        vertical-align: top;\n",
       "    }\n",
       "\n",
       "    .dataframe thead th {\n",
       "        text-align: right;\n",
       "    }\n",
       "</style>\n",
       "<table border=\"1\" class=\"dataframe\">\n",
       "  <thead>\n",
       "    <tr style=\"text-align: right;\">\n",
       "      <th></th>\n",
       "      <th>NVDA</th>\n",
       "    </tr>\n",
       "    <tr>\n",
       "      <th>Date</th>\n",
       "      <th></th>\n",
       "    </tr>\n",
       "  </thead>\n",
       "  <tbody>\n",
       "    <tr>\n",
       "      <th>2022-10-31 00:00:00</th>\n",
       "      <td>120.0</td>\n",
       "    </tr>\n",
       "    <tr>\n",
       "      <th>2022-11-01 00:00:00</th>\n",
       "      <td>120.0</td>\n",
       "    </tr>\n",
       "    <tr>\n",
       "      <th>2022-11-02 00:00:00</th>\n",
       "      <td>120.0</td>\n",
       "    </tr>\n",
       "    <tr>\n",
       "      <th>2022-11-03 00:00:00</th>\n",
       "      <td>120.0</td>\n",
       "    </tr>\n",
       "    <tr>\n",
       "      <th>2022-11-04 00:00:00</th>\n",
       "      <td>120.0</td>\n",
       "    </tr>\n",
       "  </tbody>\n",
       "</table>\n",
       "</div>"
      ],
      "text/plain": [
       "                      NVDA\n",
       "Date                      \n",
       "2022-10-31 00:00:00  120.0\n",
       "2022-11-01 00:00:00  120.0\n",
       "2022-11-02 00:00:00  120.0\n",
       "2022-11-03 00:00:00  120.0\n",
       "2022-11-04 00:00:00  120.0"
      ]
     },
     "execution_count": 4,
     "metadata": {},
     "output_type": "execute_result"
    }
   ],
   "source": [
    "asset_data.tail()"
   ]
  },
  {
   "cell_type": "markdown",
   "id": "d41d8bfd",
   "metadata": {},
   "source": [
    "## Visualizing stock price history"
   ]
  },
  {
   "cell_type": "code",
   "execution_count": 5,
   "id": "78c891fc",
   "metadata": {},
   "outputs": [
    {
     "name": "stderr",
     "output_type": "stream",
     "text": [
      "/Users/jiajie/opt/miniconda3/envs/tensorflow/lib/python3.9/site-packages/plotly/express/_core.py:1073: FutureWarning: Inferring datetime64[ns] from data containing strings is deprecated and will be removed in a future version. To retain the old behavior explicitly pass Series(data, dtype=datetime64[ns])\n",
      "  return pd.Series(x).reset_index(drop=True)\n"
     ]
    },
    {
     "data": {
      "application/vnd.plotly.v1+json": {
       "config": {
        "plotlyServerURL": "https://plot.ly"
       },
       "data": [
        {
         "hovertemplate": "Date=%{x}<br>NVDA=%{y}<extra></extra>",
         "legendgroup": "",
         "line": {
          "color": "#636efa",
          "dash": "solid"
         },
         "marker": {
          "symbol": "circle"
         },
         "mode": "lines",
         "name": "",
         "orientation": "v",
         "showlegend": false,
         "type": "scatter",
         "x": [
          "2022-05-31T00:00:00",
          "2022-06-01T00:00:00",
          "2022-06-02T00:00:00",
          "2022-06-03T00:00:00",
          "2022-06-06T00:00:00",
          "2022-06-07T00:00:00",
          "2022-06-08T00:00:00",
          "2022-06-09T00:00:00",
          "2022-06-10T00:00:00",
          "2022-06-13T00:00:00",
          "2022-06-14T00:00:00",
          "2022-06-15T00:00:00",
          "2022-06-16T00:00:00",
          "2022-06-17T00:00:00",
          "2022-06-21T00:00:00",
          "2022-06-22T00:00:00",
          "2022-06-23T00:00:00",
          "2022-06-24T00:00:00",
          "2022-06-27T00:00:00",
          "2022-06-28T00:00:00",
          "2022-06-29T00:00:00",
          "2022-06-30T00:00:00",
          "2022-07-01T00:00:00",
          "2022-07-05T00:00:00",
          "2022-07-06T00:00:00",
          "2022-07-07T00:00:00",
          "2022-07-08T00:00:00",
          "2022-07-11T00:00:00",
          "2022-07-12T00:00:00",
          "2022-07-13T00:00:00",
          "2022-07-14T00:00:00",
          "2022-07-15T00:00:00",
          "2022-07-18T00:00:00",
          "2022-07-19T00:00:00",
          "2022-07-20T00:00:00",
          "2022-07-21T00:00:00",
          "2022-07-22T00:00:00",
          "2022-07-25T00:00:00",
          "2022-07-26T00:00:00",
          "2022-07-27T00:00:00",
          "2022-07-28T00:00:00",
          "2022-07-29T00:00:00",
          "2022-08-01T00:00:00",
          "2022-08-02T00:00:00",
          "2022-08-03T00:00:00",
          "2022-08-04T00:00:00",
          "2022-08-05T00:00:00",
          "2022-08-08T00:00:00",
          "2022-08-09T00:00:00",
          "2022-08-10T00:00:00",
          "2022-08-11T00:00:00",
          "2022-08-12T00:00:00",
          "2022-08-15T00:00:00",
          "2022-08-16T00:00:00",
          "2022-08-17T00:00:00",
          "2022-08-18T00:00:00",
          "2022-08-19T00:00:00",
          "2022-08-22T00:00:00",
          "2022-08-23T00:00:00",
          "2022-08-24T00:00:00",
          "2022-08-25T00:00:00",
          "2022-08-26T00:00:00",
          "2022-08-29T00:00:00",
          "2022-08-30T00:00:00",
          "2022-08-31T00:00:00",
          "2022-09-01T00:00:00",
          "2022-09-02T00:00:00",
          "2022-09-06T00:00:00",
          "2022-09-07T00:00:00",
          "2022-09-08T00:00:00",
          "2022-09-09T00:00:00",
          "2022-09-12T00:00:00",
          "2022-09-13T00:00:00",
          "2022-09-14T00:00:00",
          "2022-09-15T00:00:00",
          "2022-09-16T00:00:00",
          "2022-09-19T00:00:00",
          "2022-09-20T00:00:00",
          "2022-09-21T00:00:00",
          "2022-09-22T00:00:00",
          "2022-09-23T00:00:00",
          "2022-09-26T00:00:00",
          "2022-09-27T00:00:00",
          "2022-09-28T00:00:00",
          "2022-09-29T00:00:00",
          "2022-09-30T00:00:00",
          "2022-10-03T00:00:00",
          "2022-10-04T00:00:00",
          "2022-10-05T00:00:00",
          "2022-10-06T00:00:00",
          "2022-10-07T00:00:00",
          "2022-10-10T00:00:00",
          "2022-10-11T00:00:00",
          "2022-10-12T00:00:00",
          "2022-10-13T00:00:00",
          "2022-10-14T00:00:00",
          "2022-10-17T00:00:00",
          "2022-10-18T00:00:00",
          "2022-10-19T00:00:00",
          "2022-10-20T00:00:00",
          "2022-10-24T00:00:00",
          "2022-10-25T00:00:00",
          "2022-10-26T00:00:00",
          "2022-10-27T00:00:00",
          "2022-10-28T00:00:00",
          "2022-10-29T00:00:00",
          "2022-10-30T00:00:00",
          "2022-10-31T00:00:00",
          "2022-11-01T00:00:00",
          "2022-11-02T00:00:00",
          "2022-11-03T00:00:00",
          "2022-11-04T00:00:00"
         ],
         "xaxis": "x",
         "y": [
          186.62509155273438,
          183.1068572998047,
          195.8203887939453,
          187.10482788085938,
          187.76449584960938,
          189.1637725830078,
          186.42459106445312,
          180.42637634277344,
          169.6895751953125,
          156.42352294921875,
          158.31295776367188,
          165.2209014892578,
          155.96365356445312,
          158.75282287597656,
          165.6107940673828,
          163.55140686035156,
          162.20179748535156,
          171.20912170410156,
          168.639892578125,
          159.7725372314453,
          155.3738250732422,
          151.5449676513672,
          145.18685913085938,
          149.59555053710938,
          151.2550506591797,
          158.53289794921875,
          158.3329620361328,
          151.47499084472656,
          150.77520751953125,
          151.59495544433594,
          153.67433166503906,
          157.5731658935547,
          160.962158203125,
          169.86952209472656,
          178.01710510253906,
          180.44638061523438,
          173.1385498046875,
          170.18943786621094,
          165.2808837890625,
          177.84715270996094,
          179.7865753173828,
          181.5760498046875,
          184.355224609375,
          185.2049560546875,
          188.87387084960938,
          192.09291076660156,
          189.83358764648438,
          177.87713623046875,
          170.8092498779297,
          180.91624450683594,
          179.36669921875,
          187.034423828125,
          190.2634735107422,
          188.73390197753906,
          183.2955322265625,
          187.67422485351562,
          178.43698120117188,
          170.28939819335938,
          171.7589569091797,
          172.16883850097656,
          179.07679748535156,
          162.55169677734375,
          157.9630584716797,
          154.63404846191406,
          150.89515686035156,
          139.32859802246094,
          136.42945861816406,
          134.61000061035156,
          137.13999938964844,
          139.89999389648438,
          143.8699951171875,
          145.0500030517578,
          131.30999755859375,
          131.27999877929688,
          129.2899932861328,
          131.97999572753906,
          133.82000732421875,
          131.75999450683594,
          132.61000061035156,
          125.61000061035156,
          125.16000366210938,
          122.27999877929688,
          124.12999725341797,
          127.36000061035156,
          122.19999694824219,
          121.38999938964844,
          125.12000274658203,
          131.6699981689453,
          132.08999633789062,
          131.3000030517578,
          120.76000213623047,
          116.69999694824219,
          115.86000061035156,
          115,
          119.5999984741211,
          112.2699966430664,
          118.87999725341797,
          119.66999816894531,
          120.51000213623047,
          121.94000244140625,
          120,
          120,
          120,
          120,
          120,
          120,
          120,
          120,
          120,
          120,
          120,
          120
         ],
         "yaxis": "y"
        }
       ],
       "layout": {
        "legend": {
         "tracegroupgap": 0
        },
        "template": {
         "data": {
          "bar": [
           {
            "error_x": {
             "color": "#2a3f5f"
            },
            "error_y": {
             "color": "#2a3f5f"
            },
            "marker": {
             "line": {
              "color": "#E5ECF6",
              "width": 0.5
             },
             "pattern": {
              "fillmode": "overlay",
              "size": 10,
              "solidity": 0.2
             }
            },
            "type": "bar"
           }
          ],
          "barpolar": [
           {
            "marker": {
             "line": {
              "color": "#E5ECF6",
              "width": 0.5
             },
             "pattern": {
              "fillmode": "overlay",
              "size": 10,
              "solidity": 0.2
             }
            },
            "type": "barpolar"
           }
          ],
          "carpet": [
           {
            "aaxis": {
             "endlinecolor": "#2a3f5f",
             "gridcolor": "white",
             "linecolor": "white",
             "minorgridcolor": "white",
             "startlinecolor": "#2a3f5f"
            },
            "baxis": {
             "endlinecolor": "#2a3f5f",
             "gridcolor": "white",
             "linecolor": "white",
             "minorgridcolor": "white",
             "startlinecolor": "#2a3f5f"
            },
            "type": "carpet"
           }
          ],
          "choropleth": [
           {
            "colorbar": {
             "outlinewidth": 0,
             "ticks": ""
            },
            "type": "choropleth"
           }
          ],
          "contour": [
           {
            "colorbar": {
             "outlinewidth": 0,
             "ticks": ""
            },
            "colorscale": [
             [
              0,
              "#0d0887"
             ],
             [
              0.1111111111111111,
              "#46039f"
             ],
             [
              0.2222222222222222,
              "#7201a8"
             ],
             [
              0.3333333333333333,
              "#9c179e"
             ],
             [
              0.4444444444444444,
              "#bd3786"
             ],
             [
              0.5555555555555556,
              "#d8576b"
             ],
             [
              0.6666666666666666,
              "#ed7953"
             ],
             [
              0.7777777777777778,
              "#fb9f3a"
             ],
             [
              0.8888888888888888,
              "#fdca26"
             ],
             [
              1,
              "#f0f921"
             ]
            ],
            "type": "contour"
           }
          ],
          "contourcarpet": [
           {
            "colorbar": {
             "outlinewidth": 0,
             "ticks": ""
            },
            "type": "contourcarpet"
           }
          ],
          "heatmap": [
           {
            "colorbar": {
             "outlinewidth": 0,
             "ticks": ""
            },
            "colorscale": [
             [
              0,
              "#0d0887"
             ],
             [
              0.1111111111111111,
              "#46039f"
             ],
             [
              0.2222222222222222,
              "#7201a8"
             ],
             [
              0.3333333333333333,
              "#9c179e"
             ],
             [
              0.4444444444444444,
              "#bd3786"
             ],
             [
              0.5555555555555556,
              "#d8576b"
             ],
             [
              0.6666666666666666,
              "#ed7953"
             ],
             [
              0.7777777777777778,
              "#fb9f3a"
             ],
             [
              0.8888888888888888,
              "#fdca26"
             ],
             [
              1,
              "#f0f921"
             ]
            ],
            "type": "heatmap"
           }
          ],
          "heatmapgl": [
           {
            "colorbar": {
             "outlinewidth": 0,
             "ticks": ""
            },
            "colorscale": [
             [
              0,
              "#0d0887"
             ],
             [
              0.1111111111111111,
              "#46039f"
             ],
             [
              0.2222222222222222,
              "#7201a8"
             ],
             [
              0.3333333333333333,
              "#9c179e"
             ],
             [
              0.4444444444444444,
              "#bd3786"
             ],
             [
              0.5555555555555556,
              "#d8576b"
             ],
             [
              0.6666666666666666,
              "#ed7953"
             ],
             [
              0.7777777777777778,
              "#fb9f3a"
             ],
             [
              0.8888888888888888,
              "#fdca26"
             ],
             [
              1,
              "#f0f921"
             ]
            ],
            "type": "heatmapgl"
           }
          ],
          "histogram": [
           {
            "marker": {
             "pattern": {
              "fillmode": "overlay",
              "size": 10,
              "solidity": 0.2
             }
            },
            "type": "histogram"
           }
          ],
          "histogram2d": [
           {
            "colorbar": {
             "outlinewidth": 0,
             "ticks": ""
            },
            "colorscale": [
             [
              0,
              "#0d0887"
             ],
             [
              0.1111111111111111,
              "#46039f"
             ],
             [
              0.2222222222222222,
              "#7201a8"
             ],
             [
              0.3333333333333333,
              "#9c179e"
             ],
             [
              0.4444444444444444,
              "#bd3786"
             ],
             [
              0.5555555555555556,
              "#d8576b"
             ],
             [
              0.6666666666666666,
              "#ed7953"
             ],
             [
              0.7777777777777778,
              "#fb9f3a"
             ],
             [
              0.8888888888888888,
              "#fdca26"
             ],
             [
              1,
              "#f0f921"
             ]
            ],
            "type": "histogram2d"
           }
          ],
          "histogram2dcontour": [
           {
            "colorbar": {
             "outlinewidth": 0,
             "ticks": ""
            },
            "colorscale": [
             [
              0,
              "#0d0887"
             ],
             [
              0.1111111111111111,
              "#46039f"
             ],
             [
              0.2222222222222222,
              "#7201a8"
             ],
             [
              0.3333333333333333,
              "#9c179e"
             ],
             [
              0.4444444444444444,
              "#bd3786"
             ],
             [
              0.5555555555555556,
              "#d8576b"
             ],
             [
              0.6666666666666666,
              "#ed7953"
             ],
             [
              0.7777777777777778,
              "#fb9f3a"
             ],
             [
              0.8888888888888888,
              "#fdca26"
             ],
             [
              1,
              "#f0f921"
             ]
            ],
            "type": "histogram2dcontour"
           }
          ],
          "mesh3d": [
           {
            "colorbar": {
             "outlinewidth": 0,
             "ticks": ""
            },
            "type": "mesh3d"
           }
          ],
          "parcoords": [
           {
            "line": {
             "colorbar": {
              "outlinewidth": 0,
              "ticks": ""
             }
            },
            "type": "parcoords"
           }
          ],
          "pie": [
           {
            "automargin": true,
            "type": "pie"
           }
          ],
          "scatter": [
           {
            "fillpattern": {
             "fillmode": "overlay",
             "size": 10,
             "solidity": 0.2
            },
            "type": "scatter"
           }
          ],
          "scatter3d": [
           {
            "line": {
             "colorbar": {
              "outlinewidth": 0,
              "ticks": ""
             }
            },
            "marker": {
             "colorbar": {
              "outlinewidth": 0,
              "ticks": ""
             }
            },
            "type": "scatter3d"
           }
          ],
          "scattercarpet": [
           {
            "marker": {
             "colorbar": {
              "outlinewidth": 0,
              "ticks": ""
             }
            },
            "type": "scattercarpet"
           }
          ],
          "scattergeo": [
           {
            "marker": {
             "colorbar": {
              "outlinewidth": 0,
              "ticks": ""
             }
            },
            "type": "scattergeo"
           }
          ],
          "scattergl": [
           {
            "marker": {
             "colorbar": {
              "outlinewidth": 0,
              "ticks": ""
             }
            },
            "type": "scattergl"
           }
          ],
          "scattermapbox": [
           {
            "marker": {
             "colorbar": {
              "outlinewidth": 0,
              "ticks": ""
             }
            },
            "type": "scattermapbox"
           }
          ],
          "scatterpolar": [
           {
            "marker": {
             "colorbar": {
              "outlinewidth": 0,
              "ticks": ""
             }
            },
            "type": "scatterpolar"
           }
          ],
          "scatterpolargl": [
           {
            "marker": {
             "colorbar": {
              "outlinewidth": 0,
              "ticks": ""
             }
            },
            "type": "scatterpolargl"
           }
          ],
          "scatterternary": [
           {
            "marker": {
             "colorbar": {
              "outlinewidth": 0,
              "ticks": ""
             }
            },
            "type": "scatterternary"
           }
          ],
          "surface": [
           {
            "colorbar": {
             "outlinewidth": 0,
             "ticks": ""
            },
            "colorscale": [
             [
              0,
              "#0d0887"
             ],
             [
              0.1111111111111111,
              "#46039f"
             ],
             [
              0.2222222222222222,
              "#7201a8"
             ],
             [
              0.3333333333333333,
              "#9c179e"
             ],
             [
              0.4444444444444444,
              "#bd3786"
             ],
             [
              0.5555555555555556,
              "#d8576b"
             ],
             [
              0.6666666666666666,
              "#ed7953"
             ],
             [
              0.7777777777777778,
              "#fb9f3a"
             ],
             [
              0.8888888888888888,
              "#fdca26"
             ],
             [
              1,
              "#f0f921"
             ]
            ],
            "type": "surface"
           }
          ],
          "table": [
           {
            "cells": {
             "fill": {
              "color": "#EBF0F8"
             },
             "line": {
              "color": "white"
             }
            },
            "header": {
             "fill": {
              "color": "#C8D4E3"
             },
             "line": {
              "color": "white"
             }
            },
            "type": "table"
           }
          ]
         },
         "layout": {
          "annotationdefaults": {
           "arrowcolor": "#2a3f5f",
           "arrowhead": 0,
           "arrowwidth": 1
          },
          "autotypenumbers": "strict",
          "coloraxis": {
           "colorbar": {
            "outlinewidth": 0,
            "ticks": ""
           }
          },
          "colorscale": {
           "diverging": [
            [
             0,
             "#8e0152"
            ],
            [
             0.1,
             "#c51b7d"
            ],
            [
             0.2,
             "#de77ae"
            ],
            [
             0.3,
             "#f1b6da"
            ],
            [
             0.4,
             "#fde0ef"
            ],
            [
             0.5,
             "#f7f7f7"
            ],
            [
             0.6,
             "#e6f5d0"
            ],
            [
             0.7,
             "#b8e186"
            ],
            [
             0.8,
             "#7fbc41"
            ],
            [
             0.9,
             "#4d9221"
            ],
            [
             1,
             "#276419"
            ]
           ],
           "sequential": [
            [
             0,
             "#0d0887"
            ],
            [
             0.1111111111111111,
             "#46039f"
            ],
            [
             0.2222222222222222,
             "#7201a8"
            ],
            [
             0.3333333333333333,
             "#9c179e"
            ],
            [
             0.4444444444444444,
             "#bd3786"
            ],
            [
             0.5555555555555556,
             "#d8576b"
            ],
            [
             0.6666666666666666,
             "#ed7953"
            ],
            [
             0.7777777777777778,
             "#fb9f3a"
            ],
            [
             0.8888888888888888,
             "#fdca26"
            ],
            [
             1,
             "#f0f921"
            ]
           ],
           "sequentialminus": [
            [
             0,
             "#0d0887"
            ],
            [
             0.1111111111111111,
             "#46039f"
            ],
            [
             0.2222222222222222,
             "#7201a8"
            ],
            [
             0.3333333333333333,
             "#9c179e"
            ],
            [
             0.4444444444444444,
             "#bd3786"
            ],
            [
             0.5555555555555556,
             "#d8576b"
            ],
            [
             0.6666666666666666,
             "#ed7953"
            ],
            [
             0.7777777777777778,
             "#fb9f3a"
            ],
            [
             0.8888888888888888,
             "#fdca26"
            ],
            [
             1,
             "#f0f921"
            ]
           ]
          },
          "colorway": [
           "#636efa",
           "#EF553B",
           "#00cc96",
           "#ab63fa",
           "#FFA15A",
           "#19d3f3",
           "#FF6692",
           "#B6E880",
           "#FF97FF",
           "#FECB52"
          ],
          "font": {
           "color": "#2a3f5f"
          },
          "geo": {
           "bgcolor": "white",
           "lakecolor": "white",
           "landcolor": "#E5ECF6",
           "showlakes": true,
           "showland": true,
           "subunitcolor": "white"
          },
          "hoverlabel": {
           "align": "left"
          },
          "hovermode": "closest",
          "mapbox": {
           "style": "light"
          },
          "paper_bgcolor": "white",
          "plot_bgcolor": "#E5ECF6",
          "polar": {
           "angularaxis": {
            "gridcolor": "white",
            "linecolor": "white",
            "ticks": ""
           },
           "bgcolor": "#E5ECF6",
           "radialaxis": {
            "gridcolor": "white",
            "linecolor": "white",
            "ticks": ""
           }
          },
          "scene": {
           "xaxis": {
            "backgroundcolor": "#E5ECF6",
            "gridcolor": "white",
            "gridwidth": 2,
            "linecolor": "white",
            "showbackground": true,
            "ticks": "",
            "zerolinecolor": "white"
           },
           "yaxis": {
            "backgroundcolor": "#E5ECF6",
            "gridcolor": "white",
            "gridwidth": 2,
            "linecolor": "white",
            "showbackground": true,
            "ticks": "",
            "zerolinecolor": "white"
           },
           "zaxis": {
            "backgroundcolor": "#E5ECF6",
            "gridcolor": "white",
            "gridwidth": 2,
            "linecolor": "white",
            "showbackground": true,
            "ticks": "",
            "zerolinecolor": "white"
           }
          },
          "shapedefaults": {
           "line": {
            "color": "#2a3f5f"
           }
          },
          "ternary": {
           "aaxis": {
            "gridcolor": "white",
            "linecolor": "white",
            "ticks": ""
           },
           "baxis": {
            "gridcolor": "white",
            "linecolor": "white",
            "ticks": ""
           },
           "bgcolor": "#E5ECF6",
           "caxis": {
            "gridcolor": "white",
            "linecolor": "white",
            "ticks": ""
           }
          },
          "title": {
           "x": 0.05
          },
          "xaxis": {
           "automargin": true,
           "gridcolor": "white",
           "linecolor": "white",
           "ticks": "",
           "title": {
            "standoff": 15
           },
           "zerolinecolor": "white",
           "zerolinewidth": 2
          },
          "yaxis": {
           "automargin": true,
           "gridcolor": "white",
           "linecolor": "white",
           "ticks": "",
           "title": {
            "standoff": 15
           },
           "zerolinecolor": "white",
           "zerolinewidth": 2
          }
         }
        },
        "title": {
         "text": "NVDA Stock Price"
        },
        "xaxis": {
         "anchor": "y",
         "domain": [
          0,
          1
         ],
         "title": {
          "text": "Date"
         }
        },
        "yaxis": {
         "anchor": "x",
         "domain": [
          0,
          1
         ],
         "title": {
          "text": "NVDA"
         }
        }
       }
      }
     },
     "metadata": {},
     "output_type": "display_data"
    }
   ],
   "source": [
    "# visualizing historical price movements of NVDA using plotly\n",
    "fig = px.line(asset_data, x=asset_data.index, y=asset_data['NVDA'], title='NVDA Stock Price')\n",
    "fig.show()"
   ]
  },
  {
   "cell_type": "markdown",
   "id": "00b04675",
   "metadata": {},
   "source": [
    "## Data Preprocessing"
   ]
  },
  {
   "cell_type": "code",
   "execution_count": 6,
   "id": "c69b2f46",
   "metadata": {},
   "outputs": [],
   "source": [
    "values = asset_data.values\n",
    "training_data_len = math.ceil(len(values)* 0.8)\n",
    "\n",
    "scaler = MinMaxScaler(feature_range=(0,1))\n",
    "scaled_data = scaler.fit_transform(values.reshape(-1,1))\n",
    "train_data = scaled_data[0: training_data_len, :]\n",
    "\n"
   ]
  },
  {
   "cell_type": "code",
   "execution_count": 7,
   "id": "b0223d39",
   "metadata": {},
   "outputs": [],
   "source": [
    "x_train = []\n",
    "y_train = []\n",
    "for i in range(60, len(train_data)):\n",
    "    x_train.append(train_data[i-60:i, 0])\n",
    "    y_train.append(train_data[i, 0])\n",
    "    \n",
    "x_train, y_train = np.array(x_train), np.array(y_train)\n",
    "x_train = np.reshape(x_train, (x_train.shape[0], x_train.shape[1], 1))"
   ]
  },
  {
   "cell_type": "code",
   "execution_count": 8,
   "id": "6503198a",
   "metadata": {},
   "outputs": [],
   "source": [
    "\n",
    "test_data = scaled_data[training_data_len-60: , : ]\n",
    "x_test = []\n",
    "y_test = values[training_data_len:]\n",
    "\n",
    "for i in range(60, len(test_data)):\n",
    "  x_test.append(test_data[i-60:i, 0])\n",
    "\n",
    "x_test = np.array(x_test)\n",
    "x_test = np.reshape(x_test, (x_test.shape[0], x_test.shape[1], 1))"
   ]
  },
  {
   "cell_type": "code",
   "execution_count": 9,
   "id": "4d9ecd50",
   "metadata": {},
   "outputs": [
    {
     "name": "stderr",
     "output_type": "stream",
     "text": [
      "2022-10-21 19:33:32.729278: I tensorflow/core/common_runtime/pluggable_device/pluggable_device_factory.cc:306] Could not identify NUMA node of platform GPU ID 0, defaulting to 0. Your kernel may not have been built with NUMA support.\n",
      "2022-10-21 19:33:32.729382: I tensorflow/core/common_runtime/pluggable_device/pluggable_device_factory.cc:272] Created TensorFlow device (/job:localhost/replica:0/task:0/device:GPU:0 with 0 MB memory) -> physical PluggableDevice (device: 0, name: METAL, pci bus id: <undefined>)\n"
     ]
    },
    {
     "name": "stdout",
     "output_type": "stream",
     "text": [
      "Metal device set to: Apple M1\n",
      "\n",
      "systemMemory: 16.00 GB\n",
      "maxCacheSize: 5.33 GB\n",
      "\n",
      "Model: \"sequential\"\n",
      "_________________________________________________________________\n",
      " Layer (type)                Output Shape              Param #   \n",
      "=================================================================\n",
      " lstm (LSTM)                 (None, 60, 100)           40800     \n",
      "                                                                 \n",
      " lstm_1 (LSTM)               (None, 100)               80400     \n",
      "                                                                 \n",
      " dense (Dense)               (None, 25)                2525      \n",
      "                                                                 \n",
      " dense_1 (Dense)             (None, 1)                 26        \n",
      "                                                                 \n",
      "=================================================================\n",
      "Total params: 123,751\n",
      "Trainable params: 123,751\n",
      "Non-trainable params: 0\n",
      "_________________________________________________________________\n"
     ]
    }
   ],
   "source": [
    "model = keras.Sequential()\n",
    "model.add(layers.LSTM(100, return_sequences=True, input_shape=(x_train.shape[1], 1)))\n",
    "model.add(layers.LSTM(100, return_sequences=False))\n",
    "model.add(layers.Dense(25))\n",
    "model.add(layers.Dense(1))\n",
    "model.summary()"
   ]
  },
  {
   "cell_type": "code",
   "execution_count": 10,
   "id": "eda28ff2",
   "metadata": {},
   "outputs": [
    {
     "name": "stdout",
     "output_type": "stream",
     "text": [
      "Epoch 1/3\n"
     ]
    },
    {
     "name": "stderr",
     "output_type": "stream",
     "text": [
      "2022-10-21 19:33:33.048798: W tensorflow/core/platform/profile_utils/cpu_utils.cc:128] Failed to get CPU frequency: 0 Hz\n",
      "2022-10-21 19:33:33.697129: I tensorflow/core/grappler/optimizers/custom_graph_optimizer_registry.cc:114] Plugin optimizer for device_type GPU is enabled.\n",
      "2022-10-21 19:33:33.875693: I tensorflow/core/grappler/optimizers/custom_graph_optimizer_registry.cc:114] Plugin optimizer for device_type GPU is enabled.\n",
      "2022-10-21 19:33:33.985719: I tensorflow/core/grappler/optimizers/custom_graph_optimizer_registry.cc:114] Plugin optimizer for device_type GPU is enabled.\n",
      "2022-10-21 19:33:34.105256: I tensorflow/core/grappler/optimizers/custom_graph_optimizer_registry.cc:114] Plugin optimizer for device_type GPU is enabled.\n"
     ]
    },
    {
     "name": "stdout",
     "output_type": "stream",
     "text": [
      " 3/30 [==>...........................] - ETA: 0s - loss: 0.0157 "
     ]
    },
    {
     "name": "stderr",
     "output_type": "stream",
     "text": [
      "2022-10-21 19:33:34.282000: I tensorflow/core/grappler/optimizers/custom_graph_optimizer_registry.cc:114] Plugin optimizer for device_type GPU is enabled.\n"
     ]
    },
    {
     "name": "stdout",
     "output_type": "stream",
     "text": [
      "30/30 [==============================] - 2s 26ms/step - loss: 0.0168\n",
      "Epoch 2/3\n",
      "30/30 [==============================] - 1s 26ms/step - loss: 0.0154\n",
      "Epoch 3/3\n",
      "30/30 [==============================] - 1s 26ms/step - loss: 0.0096\n"
     ]
    },
    {
     "data": {
      "text/plain": [
       "<keras.callbacks.History at 0x17b7a89a0>"
      ]
     },
     "execution_count": 10,
     "metadata": {},
     "output_type": "execute_result"
    }
   ],
   "source": [
    "model.compile(optimizer='adam', loss='mean_squared_error')\n",
    "model.fit(x_train, y_train, batch_size= 1, epochs=3)"
   ]
  },
  {
   "cell_type": "code",
   "execution_count": 11,
   "id": "90279315",
   "metadata": {},
   "outputs": [
    {
     "name": "stderr",
     "output_type": "stream",
     "text": [
      "2022-10-21 19:33:37.081705: I tensorflow/core/grappler/optimizers/custom_graph_optimizer_registry.cc:114] Plugin optimizer for device_type GPU is enabled.\n",
      "2022-10-21 19:33:37.155298: I tensorflow/core/grappler/optimizers/custom_graph_optimizer_registry.cc:114] Plugin optimizer for device_type GPU is enabled.\n",
      "2022-10-21 19:33:37.263863: I tensorflow/core/grappler/optimizers/custom_graph_optimizer_registry.cc:114] Plugin optimizer for device_type GPU is enabled.\n"
     ]
    },
    {
     "name": "stdout",
     "output_type": "stream",
     "text": [
      "1/1 [==============================] - 1s 542ms/step\n"
     ]
    },
    {
     "data": {
      "text/plain": [
       "5.772382562810725"
      ]
     },
     "execution_count": 11,
     "metadata": {},
     "output_type": "execute_result"
    }
   ],
   "source": [
    "predictions = model.predict(x_test)\n",
    "predictions = scaler.inverse_transform(predictions)\n",
    "rmse = np.sqrt(np.mean(predictions - y_test)**2)\n",
    "rmse"
   ]
  },
  {
   "cell_type": "code",
   "execution_count": 12,
   "id": "ba953657",
   "metadata": {},
   "outputs": [
    {
     "name": "stderr",
     "output_type": "stream",
     "text": [
      "/var/folders/wx/97hhflzd4fz_lhsgvwz6ztc40000gn/T/ipykernel_16546/1447010845.py:3: SettingWithCopyWarning:\n",
      "\n",
      "\n",
      "A value is trying to be set on a copy of a slice from a DataFrame.\n",
      "Try using .loc[row_indexer,col_indexer] = value instead\n",
      "\n",
      "See the caveats in the documentation: https://pandas.pydata.org/pandas-docs/stable/user_guide/indexing.html#returning-a-view-versus-a-copy\n",
      "\n"
     ]
    },
    {
     "data": {
      "image/png": "[encoded data removed]",
      "text/plain": [
       "<Figure size 1600x800 with 1 Axes>"
      ]
     },
     "metadata": {},
     "output_type": "display_data"
    }
   ],
   "source": [
    "\n",
    "train = asset_data[:training_data_len]\n",
    "validation = asset_data[training_data_len:]\n",
    "validation['Predictions'] = predictions\n",
    "plt.figure(figsize=(16,8))\n",
    "plt.title('Model')\n",
    "plt.xlabel('Date')\n",
    "plt.ylabel('Close Price USD ($)')\n",
    "plt.plot(train)\n",
    "plt.plot(validation[['NVDA', 'Predictions']])\n",
    "plt.legend(['Train', 'Val', 'Predictions'], loc='lower right')\n",
    "plt.show()\n",
    "plt.show()\n",
    "#2nd column of validation\n"
   ]
  },
  {
   "cell_type": "code",
   "execution_count": 13,
   "id": "6af760c0",
   "metadata": {},
   "outputs": [
    {
     "data": {
      "text/html": [
       "<div>\n",
       "<style scoped>\n",
       "    .dataframe tbody tr th:only-of-type {\n",
       "        vertical-align: middle;\n",
       "    }\n",
       "\n",
       "    .dataframe tbody tr th {\n",
       "        vertical-align: top;\n",
       "    }\n",
       "\n",
       "    .dataframe thead th {\n",
       "        text-align: right;\n",
       "    }\n",
       "</style>\n",
       "<table border=\"1\" class=\"dataframe\">\n",
       "  <thead>\n",
       "    <tr style=\"text-align: right;\">\n",
       "      <th></th>\n",
       "      <th>NVDA</th>\n",
       "      <th>Predictions</th>\n",
       "    </tr>\n",
       "    <tr>\n",
       "      <th>Date</th>\n",
       "      <th></th>\n",
       "      <th></th>\n",
       "    </tr>\n",
       "  </thead>\n",
       "  <tbody>\n",
       "    <tr>\n",
       "      <th>2022-10-07 00:00:00</th>\n",
       "      <td>120.760002</td>\n",
       "      <td>128.565704</td>\n",
       "    </tr>\n",
       "    <tr>\n",
       "      <th>2022-10-10 00:00:00</th>\n",
       "      <td>116.699997</td>\n",
       "      <td>128.526489</td>\n",
       "    </tr>\n",
       "    <tr>\n",
       "      <th>2022-10-11 00:00:00</th>\n",
       "      <td>115.860001</td>\n",
       "      <td>128.113632</td>\n",
       "    </tr>\n",
       "    <tr>\n",
       "      <th>2022-10-12 00:00:00</th>\n",
       "      <td>115.000000</td>\n",
       "      <td>127.451515</td>\n",
       "    </tr>\n",
       "    <tr>\n",
       "      <th>2022-10-13 00:00:00</th>\n",
       "      <td>119.599998</td>\n",
       "      <td>126.635384</td>\n",
       "    </tr>\n",
       "    <tr>\n",
       "      <th>2022-10-14 00:00:00</th>\n",
       "      <td>112.269997</td>\n",
       "      <td>125.947044</td>\n",
       "    </tr>\n",
       "    <tr>\n",
       "      <th>2022-10-17 00:00:00</th>\n",
       "      <td>118.879997</td>\n",
       "      <td>125.099403</td>\n",
       "    </tr>\n",
       "    <tr>\n",
       "      <th>2022-10-18 00:00:00</th>\n",
       "      <td>119.669998</td>\n",
       "      <td>124.454788</td>\n",
       "    </tr>\n",
       "    <tr>\n",
       "      <th>2022-10-19 00:00:00</th>\n",
       "      <td>120.510002</td>\n",
       "      <td>124.009537</td>\n",
       "    </tr>\n",
       "    <tr>\n",
       "      <th>2022-10-20 00:00:00</th>\n",
       "      <td>121.940002</td>\n",
       "      <td>123.750809</td>\n",
       "    </tr>\n",
       "    <tr>\n",
       "      <th>2022-10-24 00:00:00</th>\n",
       "      <td>120.000000</td>\n",
       "      <td>123.681351</td>\n",
       "    </tr>\n",
       "    <tr>\n",
       "      <th>2022-10-25 00:00:00</th>\n",
       "      <td>120.000000</td>\n",
       "      <td>123.661583</td>\n",
       "    </tr>\n",
       "    <tr>\n",
       "      <th>2022-10-26 00:00:00</th>\n",
       "      <td>120.000000</td>\n",
       "      <td>123.673134</td>\n",
       "    </tr>\n",
       "    <tr>\n",
       "      <th>2022-10-27 00:00:00</th>\n",
       "      <td>120.000000</td>\n",
       "      <td>123.702698</td>\n",
       "    </tr>\n",
       "    <tr>\n",
       "      <th>2022-10-28 00:00:00</th>\n",
       "      <td>120.000000</td>\n",
       "      <td>123.741058</td>\n",
       "    </tr>\n",
       "    <tr>\n",
       "      <th>2022-10-29 00:00:00</th>\n",
       "      <td>120.000000</td>\n",
       "      <td>123.782059</td>\n",
       "    </tr>\n",
       "    <tr>\n",
       "      <th>2022-10-30 00:00:00</th>\n",
       "      <td>120.000000</td>\n",
       "      <td>123.821899</td>\n",
       "    </tr>\n",
       "    <tr>\n",
       "      <th>2022-10-31 00:00:00</th>\n",
       "      <td>120.000000</td>\n",
       "      <td>123.858345</td>\n",
       "    </tr>\n",
       "    <tr>\n",
       "      <th>2022-11-01 00:00:00</th>\n",
       "      <td>120.000000</td>\n",
       "      <td>123.890327</td>\n",
       "    </tr>\n",
       "    <tr>\n",
       "      <th>2022-11-02 00:00:00</th>\n",
       "      <td>120.000000</td>\n",
       "      <td>123.917496</td>\n",
       "    </tr>\n",
       "    <tr>\n",
       "      <th>2022-11-03 00:00:00</th>\n",
       "      <td>120.000000</td>\n",
       "      <td>123.939972</td>\n",
       "    </tr>\n",
       "    <tr>\n",
       "      <th>2022-11-04 00:00:00</th>\n",
       "      <td>120.000000</td>\n",
       "      <td>123.958183</td>\n",
       "    </tr>\n",
       "  </tbody>\n",
       "</table>\n",
       "</div>"
      ],
      "text/plain": [
       "                           NVDA  Predictions\n",
       "Date                                        \n",
       "2022-10-07 00:00:00  120.760002   128.565704\n",
       "2022-10-10 00:00:00  116.699997   128.526489\n",
       "2022-10-11 00:00:00  115.860001   128.113632\n",
       "2022-10-12 00:00:00  115.000000   127.451515\n",
       "2022-10-13 00:00:00  119.599998   126.635384\n",
       "2022-10-14 00:00:00  112.269997   125.947044\n",
       "2022-10-17 00:00:00  118.879997   125.099403\n",
       "2022-10-18 00:00:00  119.669998   124.454788\n",
       "2022-10-19 00:00:00  120.510002   124.009537\n",
       "2022-10-20 00:00:00  121.940002   123.750809\n",
       "2022-10-24 00:00:00  120.000000   123.681351\n",
       "2022-10-25 00:00:00  120.000000   123.661583\n",
       "2022-10-26 00:00:00  120.000000   123.673134\n",
       "2022-10-27 00:00:00  120.000000   123.702698\n",
       "2022-10-28 00:00:00  120.000000   123.741058\n",
       "2022-10-29 00:00:00  120.000000   123.782059\n",
       "2022-10-30 00:00:00  120.000000   123.821899\n",
       "2022-10-31 00:00:00  120.000000   123.858345\n",
       "2022-11-01 00:00:00  120.000000   123.890327\n",
       "2022-11-02 00:00:00  120.000000   123.917496\n",
       "2022-11-03 00:00:00  120.000000   123.939972\n",
       "2022-11-04 00:00:00  120.000000   123.958183"
      ]
     },
     "execution_count": 13,
     "metadata": {},
     "output_type": "execute_result"
    }
   ],
   "source": [
    "validation"
   ]
  },
  {
   "cell_type": "code",
   "execution_count": 16,
   "id": "99bdef2a",
   "metadata": {},
   "outputs": [],
   "source": [
    "# get the last 10 rows of validation \n",
    "validation.tail(12).to_csv('YuenJiaJie_Impl_1.csv')"
   ]
  },
  {
   "cell_type": "code",
   "execution_count": null,
   "id": "7f69ef00",
   "metadata": {},
   "outputs": [],
   "source": []
  }
 ],
 "metadata": {
  "kernelspec": {
   "display_name": "Python 3.9.13",
   "language": "python",
   "name": "python3"
  },
  "language_info": {
   "codemirror_mode": {
    "name": "ipython",
    "version": 3
   },
   "file_extension": ".py",
   "mimetype": "text/x-python",
   "name": "python",
   "nbconvert_exporter": "python",
   "pygments_lexer": "ipython3",
   "version": "3.9.13"
  },
  "vscode": {
   "interpreter": {
    "hash": "32cb114408d1e5607cef976e6f7453f00f0b06c8337e9e5c257018504c21807a"
   }
  }
 },
 "nbformat": 4,
 "nbformat_minor": 5
}
